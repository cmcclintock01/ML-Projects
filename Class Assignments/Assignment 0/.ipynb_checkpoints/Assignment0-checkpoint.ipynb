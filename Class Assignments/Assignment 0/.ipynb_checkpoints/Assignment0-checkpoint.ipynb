{
 "cells": [
  {
   "cell_type": "markdown",
   "metadata": {},
   "source": [
    "# Assignment 0 - GitHub classroom and  a tiny bit of python."
   ]
  },
  {
   "cell_type": "markdown",
   "metadata": {},
   "source": [
    "## Part 1\n",
    "* Create a new markdown cell immediately after this cell.\n",
    "* Use a latex formula to express the area of circle with diameter d using a formula.   (Check the README for a link to a reference on formulas in LaTex.  Hints:  Look under _Greek Letters_ for pi and _Powers and Indices_ for exponentiation.)\n",
    "* Create a new code cell\n",
    "* Assign the value 2 to the variable d1 and 3.4 to d2.\n",
    "* Use a nice print to compute and report the area of circles with diameters of d1 and d2."
   ]
  },
  {
   "cell_type": "markdown",
   "metadata": {},
   "source": [
    "## Part 2\n",
    "* Create a new code cell immediately after this cell. \n",
    "* Assign the string \"na \" to the variable bit.\n",
    "* Print bit.\n",
    "\n",
    "* Add the following code after your code\n",
    "```Python\n",
    "fruit = 'ba' + 3*bit \n",
    "print(fruit)\n",
    "```\n",
    "* Run the cell. Explain the result in a new markdown cell."
   ]
  },
  {
   "cell_type": "markdown",
   "metadata": {},
   "source": [
    "## Bonus\n",
    "* Create a new code cell.\n",
    "* Prompt the user for their city and assign the value to a variable.\n",
    "* Print \"I will visit \" followed their city followed by \"in the spring\" without using concatenation."
   ]
  }
 ],
 "metadata": {
  "kernelspec": {
   "display_name": "Python 3",
   "language": "python",
   "name": "python3"
  },
  "language_info": {
   "codemirror_mode": {
    "name": "ipython",
    "version": 3
   },
   "file_extension": ".py",
   "mimetype": "text/x-python",
   "name": "python",
   "nbconvert_exporter": "python",
   "pygments_lexer": "ipython3",
   "version": "3.9.0"
  }
 },
 "nbformat": 4,
 "nbformat_minor": 4
}
