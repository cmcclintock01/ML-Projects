{
 "cells": [
  {
   "cell_type": "markdown",
   "metadata": {},
   "source": [
    "# Assignment 0 - GitHub classroom and  a tiny bit of python."
   ]
  },
  {
   "cell_type": "markdown",
   "metadata": {},
   "source": [
    "## Part 1\n",
    "* Create a new markdown cell immediately after this cell.\n",
    "* Use a latex formula to express the area of circle with diameter d using a formula.   (Check the README for a link to a reference on formulas in LaTex.  Hints:  Look under _Greek Letters_ for pi and _Powers and Indices_ for exponentiation.)\n",
    "* Create a new code cell\n",
    "* Assign the value 2 to the variable d1 and 3.4 to d2.\n",
    "* Use a nice print to compute and report the area of circles with diameters of d1 and d2."
   ]
  },
  {
   "cell_type": "markdown",
   "metadata": {
    "tags": []
   },
   "source": [
    "# New Markdown Cell\n",
    "$$Area = (\\pi/4)*d^2$$"
   ]
  },
  {
   "cell_type": "code",
   "execution_count": 10,
   "metadata": {
    "tags": []
   },
   "outputs": [
    {
     "name": "stdout",
     "output_type": "stream",
     "text": [
      "3.141592653589793\n",
      "9.0792027688745\n"
     ]
    }
   ],
   "source": [
    "import math\n",
    "\n",
    "d1 = 2\n",
    "d2 = 3.4\n",
    "print((math.pi/4)*d1**2)\n",
    "print((math.pi/4)*d2**2)"
   ]
  },
  {
   "cell_type": "markdown",
   "metadata": {},
   "source": [
    "## Part 2\n",
    "* Create a new code cell immediately after this cell. \n",
    "* Assign the string \"na \" to the variable bit.\n",
    "* Print bit.\n",
    "\n",
    "* Add the following code after your code\n",
    "```Python\n",
    "fruit = 'ba' + 3*bit \n",
    "print(fruit)\n",
    "```\n",
    "* Run the cell. Explain the result in a new markdown cell."
   ]
  },
  {
   "cell_type": "code",
   "execution_count": 11,
   "metadata": {
    "tags": []
   },
   "outputs": [
    {
     "name": "stdout",
     "output_type": "stream",
     "text": [
      "na\n",
      "bananana\n"
     ]
    }
   ],
   "source": [
    "bit = 'na'\n",
    "print(bit)\n",
    "fruit = 'ba' +3*bit\n",
    "print(fruit)"
   ]
  },
  {
   "cell_type": "markdown",
   "metadata": {},
   "source": [
    "# New Markdown Cell 2\n",
    "The results 'bananana' occured because the string term 'na' assigned to bit was multiplied by 3 and cocatenated to the end of 'ba'. When a string is multiplied by an integer in python it rewrites the string an equal number of times as the integer."
   ]
  },
  {
   "cell_type": "markdown",
   "metadata": {},
   "source": [
    "## Bonus\n",
    "* Create a new code cell.\n",
    "* Prompt the user for their city and assign the value to a variable.\n",
    "* Print \"I will visit \" followed their city followed by \"in the spring\" without using concatenation."
   ]
  },
  {
   "cell_type": "code",
   "execution_count": 13,
   "metadata": {
    "tags": []
   },
   "outputs": [
    {
     "name": "stdin",
     "output_type": "stream",
     "text": [
      "What city are you from? New York City\n"
     ]
    },
    {
     "name": "stdout",
     "output_type": "stream",
     "text": [
      "I will visit New York City in the spring.\n"
     ]
    }
   ],
   "source": [
    "city = input(\"What city are you from?\")\n",
    "print(\"I will visit \", end=\"\")\n",
    "print(city, end=\"\")\n",
    "print(\" in the spring.\")"
   ]
  },
  {
   "cell_type": "code",
   "execution_count": null,
   "metadata": {},
   "outputs": [],
   "source": []
  }
 ],
 "metadata": {
  "kernelspec": {
   "display_name": "Python 3 (ipykernel)",
   "language": "python",
   "name": "python3"
  },
  "language_info": {
   "codemirror_mode": {
    "name": "ipython",
    "version": 3
   },
   "file_extension": ".py",
   "mimetype": "text/x-python",
   "name": "python",
   "nbconvert_exporter": "python",
   "pygments_lexer": "ipython3",
   "version": "3.11.2"
  }
 },
 "nbformat": 4,
 "nbformat_minor": 4
}
