{
 "cells": [
  {
   "cell_type": "markdown",
   "metadata": {},
   "source": [
    "##### Assignment 5 - Linear Regression"
   ]
  },
  {
   "cell_type": "markdown",
   "metadata": {},
   "source": [
    "## Part 1 - Read your data frame.\n",
    "The CSV file is \"cars_base.csv\".  This data came from Riverside and you can see the original data and the notebook I used to create the csv from the data.  Six of the instances are missing the horsepower feature.  Read in the data and fix the missing values with the average. (Same data set as before.  You can refer back to the previous assignment for the first few parts)"
   ]
  },
  {
   "cell_type": "code",
   "execution_count": null,
   "metadata": {},
   "outputs": [],
   "source": [
    "# Your code here"
   ]
  },
  {
   "cell_type": "markdown",
   "metadata": {},
   "source": [
    "## Part 2 - Display info\n",
    "Take a look at the information.  You should not be missing any features.  Note any features that are objects, but could be numerical"
   ]
  },
  {
   "cell_type": "code",
   "execution_count": null,
   "metadata": {},
   "outputs": [],
   "source": [
    "# Your code here"
   ]
  },
  {
   "cell_type": "markdown",
   "metadata": {},
   "source": [
    "### _Notes_\n",
    "(Your notes here)"
   ]
  },
  {
   "cell_type": "markdown",
   "metadata": {},
   "source": [
    "## Part 3 - Split the data frame\n",
    "\n",
    "Use the train_test_split() function to split the data set into training(75%) and test(25%) sets. "
   ]
  },
  {
   "cell_type": "code",
   "execution_count": null,
   "metadata": {},
   "outputs": [],
   "source": [
    "# Your code here"
   ]
  },
  {
   "cell_type": "markdown",
   "metadata": {},
   "source": [
    "## Part 4 - Do some scatter plots\n",
    "Our goal is to predict the mpg for a car.  Take a look at some of the features with respect to \"mpg\".  Make sure to look at \"weight\".\n",
    "\n",
    "Use scatter_matrix."
   ]
  },
  {
   "cell_type": "code",
   "execution_count": null,
   "metadata": {},
   "outputs": [],
   "source": [
    "# Your code here"
   ]
  },
  {
   "cell_type": "markdown",
   "metadata": {},
   "source": [
    "## Part 5 - Linear Regression\n",
    "1. Pull out \"weight\" for the X and \"mpg\" for y. \n",
    "2. Fit the data.\n",
    "3. Show R2 and Mean Square Error\n",
    "4. Discuss the results"
   ]
  },
  {
   "cell_type": "code",
   "execution_count": null,
   "metadata": {},
   "outputs": [],
   "source": [
    "# Your code here"
   ]
  },
  {
   "cell_type": "markdown",
   "metadata": {},
   "source": [
    "Discussion: "
   ]
  },
  {
   "cell_type": "markdown",
   "metadata": {},
   "source": [
    "## Part 6 - Add features to X\n",
    "1. Pick up to 3 other features that you think might improve the model and use them for X.\n",
    "2. Fit the data\n",
    "3. Show the scores\n",
    "4. Discuss the results"
   ]
  },
  {
   "cell_type": "code",
   "execution_count": null,
   "metadata": {},
   "outputs": [],
   "source": [
    "# Your code here"
   ]
  },
  {
   "cell_type": "markdown",
   "metadata": {},
   "source": [
    "Discussion: "
   ]
  },
  {
   "cell_type": "markdown",
   "metadata": {},
   "source": [
    "## Part 7 - Add a new feature to the Model\n",
    "We have an inverse relation between the weight and the mpg and we notice that there is a factor of 100 difference in scales for these two features. Lets address the issue by creating a new feature based on the weight.  Call the feature weight-inv and compute it as 50000/weight.\n",
    "\n",
    "1. Fit the data using weight-inv and mpg\n",
    "1. Show the scores\n",
    "1. Discuss the results"
   ]
  },
  {
   "cell_type": "code",
   "execution_count": null,
   "metadata": {},
   "outputs": [],
   "source": [
    "# Your code here"
   ]
  },
  {
   "cell_type": "markdown",
   "metadata": {},
   "source": [
    "Discussion:"
   ]
  },
  {
   "cell_type": "markdown",
   "metadata": {},
   "source": [
    "## Part 8 - Polynomial Features\n",
    "\n",
    "1. Fit the data using weight and another feature of your choice with polynomial features of degree 2 or higher with a target of mpg\n",
    "1. Show the scores\n",
    "1. Discuss the results\n",
    "1. Do you think the model is overfitting the training set?"
   ]
  },
  {
   "cell_type": "code",
   "execution_count": null,
   "metadata": {},
   "outputs": [],
   "source": [
    "# Your code here"
   ]
  },
  {
   "cell_type": "markdown",
   "metadata": {},
   "source": [
    "Discussion:"
   ]
  },
  {
   "cell_type": "markdown",
   "metadata": {},
   "source": [
    "## Part 9 - Polynomial Features + Regularization\n",
    "\n",
    "1. Use ElasticNet\n",
    "1. Fit the data using weight and another feature of your choice with polynomial features of degree 2 or higher with a target of mpg.\n",
    "1. Try values of r from 0 to 1.  Try values of alpha ranging from 0 to 10. Remember your best score.\n",
    "1. Show the scores\n",
    "1. Discuss the results\n",
    "1. Do you think the model is overfitting the training set?"
   ]
  },
  {
   "cell_type": "code",
   "execution_count": null,
   "metadata": {},
   "outputs": [],
   "source": [
    "# your code here"
   ]
  },
  {
   "cell_type": "markdown",
   "metadata": {},
   "source": [
    "Discussion:"
   ]
  },
  {
   "cell_type": "markdown",
   "metadata": {},
   "source": [
    "## Part 10 - Test Set time\n",
    "Evaluate the model from part 9 for r2 and mean square error on the test set and discuss your results in comparison to part 9."
   ]
  },
  {
   "cell_type": "code",
   "execution_count": null,
   "metadata": {},
   "outputs": [],
   "source": [
    "# your code here"
   ]
  },
  {
   "cell_type": "markdown",
   "metadata": {},
   "source": [
    "Discussion:"
   ]
  },
  {
   "cell_type": "markdown",
   "metadata": {},
   "source": [
    "# Bonus options\n",
    "For each of the options, redo your regression using the new features, report the results and discuss.\n"
   ]
  },
  {
   "cell_type": "markdown",
   "metadata": {},
   "source": [
    "1. Look for a better set of features to predict mpg.\n",
    "1. Create a new feature that is an interesting combination of two or more existing features and use the new feature in X.\n",
    "2. Build a pipeline that includes polynomial features and standard scalar and evaluate the results."
   ]
  },
  {
   "cell_type": "code",
   "execution_count": null,
   "metadata": {},
   "outputs": [],
   "source": [
    "# your code here"
   ]
  }
 ],
 "metadata": {
  "kernelspec": {
   "display_name": "Python 3",
   "language": "python",
   "name": "python3"
  },
  "language_info": {
   "codemirror_mode": {
    "name": "ipython",
    "version": 3
   },
   "file_extension": ".py",
   "mimetype": "text/x-python",
   "name": "python",
   "nbconvert_exporter": "python",
   "pygments_lexer": "ipython3",
   "version": "3.7.8"
  }
 },
 "nbformat": 4,
 "nbformat_minor": 4
}
