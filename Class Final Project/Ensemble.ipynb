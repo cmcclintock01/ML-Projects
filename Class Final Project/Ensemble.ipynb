{
 "cells": [
  {
   "cell_type": "code",
   "execution_count": 1,
   "id": "21a0d17a-d9a7-4a6e-8f76-b0191816fd2b",
   "metadata": {
    "tags": []
   },
   "outputs": [
    {
     "name": "stdout",
     "output_type": "stream",
     "text": [
      "                 AB    H   SO   BB  HR    AVG    OBP    SLG    OPS  AVG_group\n",
      "Player                                                                       \n",
      "AJ Pollock      489  120   98   32  14  0.245  0.292  0.389  0.681          5\n",
      "Aaron Hicks     384   83  109   62   8  0.216  0.330  0.313  0.643          4\n",
      "Aaron Judge     570  177  175  111  62  0.311  0.425  0.686  1.111          8\n",
      "Abraham Toro    324   60   65   22  10  0.185  0.239  0.324  0.563          3\n",
      "Adam Duvall     287   61  101   21  12  0.213  0.276  0.401  0.677          4\n",
      "...             ...  ...  ...  ...  ..    ...    ...    ...    ...        ...\n",
      "Yonathan Daza   372  112   58   26   2  0.301  0.349  0.384  0.733          8\n",
      "Yordan Alvarez  470  144  106   78  37  0.306  0.406  0.613  1.019          8\n",
      "Yoshi Tsutsugo  170   29   50   19   2  0.171  0.249  0.229  0.478          2\n",
      "Yuli Gurriel    545  132   73   30   8  0.242  0.288  0.360  0.648          5\n",
      "Zach McKinstry  155   32   48   13   4  0.206  0.272  0.361  0.633          4\n",
      "\n",
      "[450 rows x 10 columns]\n"
     ]
    }
   ],
   "source": [
    "import pandas as pd\n",
    "import numpy as np\n",
    "\n",
    "data_2022 = pd.read_csv(\"2022stats.csv\")\n",
    "\n",
    "##First we will drop the columns that we do not need.\n",
    "copy_2022 = data_2022.copy()\n",
    "copy_2022.sort_values(\"Player\")\n",
    "copy_2022.drop(labels = ['G', 'Team', 'R', '2B', '3B', 'RBI', 'SB', 'CS', 'SH', 'SF', 'HBP'],axis='columns', inplace=True) \n",
    "\n",
    "#Now I will delete people that have lower than 100 At Bats(AB)\n",
    "above_100_2022 = copy_2022['AB'] >= 100\n",
    "\n",
    "copy_2022 = copy_2022[above_100_2022]\n",
    "\n",
    "\n",
    "#Now we will combine the names that have multiple instances\n",
    "copy_2022 = copy_2022.groupby('Player').agg({'AB' : 'sum', 'H' : 'sum','SO' : 'sum',  'BB' : 'sum', 'HR' : 'sum', 'AVG' : 'mean', 'OBP' : 'mean', 'SLG' : 'mean', 'OPS' : 'mean'})\n",
    "def avg_group(x):\n",
    "    if x < .150: return 1\n",
    "    if x >= .150 and x < .175: return 2\n",
    "    if x >= .175 and x < .200: return 3\n",
    "    if x >= .200 and x < .225: return 4\n",
    "    if x >= .225 and x < .250: return 5\n",
    "    if x >= .250 and x < .275: return 6\n",
    "    if x >= .275 and x < .300: return 7\n",
    "    if x >= .300 and x < .325: return 8\n",
    "    if x >= .325 and x < .350: return 9\n",
    "    if x >= .350: return 10\n",
    "\n",
    "copy_2022['AVG_group'] = copy_2022['AVG'].apply(avg_group)\n",
    "\n",
    "print(copy_2022)\n",
    "\n",
    "from sklearn.model_selection import train_test_split\n",
    "\n",
    "train_2022, test_2022 = train_test_split(copy_2022, test_size=0.2, random_state=42)"
   ]
  },
  {
   "cell_type": "code",
   "execution_count": 2,
   "id": "a4233b02-7e1f-4e69-8b89-8d021e30186b",
   "metadata": {
    "tags": []
   },
   "outputs": [
    {
     "name": "stdout",
     "output_type": "stream",
     "text": [
      "Accuracy score for OPS is  0.25555555555555554\n",
      "Accuracy score for OBP is  0.2777777777777778\n",
      "Accuracy score for AVG is  0.9888888888888889\n",
      "Accuracy score for H is  0.4\n",
      "Accuracy score for SLG is 0.28888888888888886\n",
      "Accuracy score for SO is  0.3111111111111111\n",
      "Accuracy score for BB is  0.3111111111111111\n"
     ]
    }
   ],
   "source": [
    "from sklearn.ensemble import VotingClassifier\n",
    "from sklearn.svm import SVC\n",
    "from sklearn.tree import DecisionTreeClassifier\n",
    "from sklearn.metrics import accuracy_score\n",
    "\n",
    "model_svm = SVC(kernel='poly')\n",
    "model_dt = DecisionTreeClassifier()\n",
    "\n",
    "ensemble = VotingClassifier(\n",
    "    voting = 'hard',\n",
    "    estimators = [\n",
    "        ('svm', model_svm),\n",
    "        ('dt', model_dt)])\n",
    "#OPS vs AVG\n",
    "X = train_2022[['OPS']]\n",
    "Y = train_2022['AVG_group']\n",
    "ensemble.fit(X,Y)\n",
    "X = test_2022[['OPS']]\n",
    "Y = test_2022['AVG_group']\n",
    "y_pred = ensemble.predict(X)\n",
    "print(\"Accuracy score for OPS is \", accuracy_score(Y, y_pred))\n",
    "#OBP vs AVG\n",
    "X = train_2022[['OBP']]\n",
    "Y = train_2022['AVG_group']\n",
    "ensemble.fit(X,Y)\n",
    "X = test_2022[['OBP']]\n",
    "Y = test_2022['AVG_group']\n",
    "y_pred = ensemble.predict(X)\n",
    "print(\"Accuracy score for OBP is \", accuracy_score(Y, y_pred))\n",
    "#AVG vs AVG\n",
    "X = train_2022[['AVG']]\n",
    "Y = train_2022['AVG_group']\n",
    "ensemble.fit(X,Y)\n",
    "X = test_2022[['AVG']]\n",
    "Y = test_2022['AVG_group']\n",
    "y_pred = ensemble.predict(X)\n",
    "print(\"Accuracy score for AVG is \", accuracy_score(Y, y_pred))\n",
    "#H vs AVG\n",
    "X = train_2022[['H']]\n",
    "Y = train_2022['AVG_group']\n",
    "ensemble.fit(X,Y)\n",
    "X = test_2022[['H']]\n",
    "Y = test_2022['AVG_group']\n",
    "y_pred = ensemble.predict(X)\n",
    "print(\"Accuracy score for H is \", accuracy_score(Y, y_pred))\n",
    "#SLG vs AVG\n",
    "X = train_2022[['SLG']]\n",
    "Y = train_2022['AVG_group']\n",
    "ensemble.fit(X,Y)\n",
    "X = test_2022[['SLG']]\n",
    "Y = test_2022['AVG_group']\n",
    "y_pred = ensemble.predict(X)\n",
    "print(\"Accuracy score for SLG is\", accuracy_score(Y, y_pred))\n",
    "#SO vs AVG\n",
    "X = train_2022[['SO']]\n",
    "Y = train_2022['AVG_group']\n",
    "ensemble.fit(X,Y)\n",
    "X = test_2022[['SO']]\n",
    "Y = test_2022['AVG_group']\n",
    "y_pred = ensemble.predict(X)\n",
    "print(\"Accuracy score for SO is \", accuracy_score(Y, y_pred))\n",
    "#BB vs AVG\n",
    "X = train_2022[['BB']]\n",
    "Y = train_2022['AVG_group']\n",
    "ensemble.fit(X,Y)\n",
    "X = test_2022[['BB']]\n",
    "Y = test_2022['AVG_group']\n",
    "y_pred = ensemble.predict(X)\n",
    "print(\"Accuracy score for BB is \", accuracy_score(Y, y_pred))"
   ]
  },
  {
   "cell_type": "code",
   "execution_count": 5,
   "id": "1da2410a-edaf-4354-8955-ab7c10eeacab",
   "metadata": {},
   "outputs": [
    {
     "name": "stdout",
     "output_type": "stream",
     "text": [
      "Accuracy score for H & SO is  0.4\n",
      "Accuracy score for BB is  0.4777777777777778\n",
      "[[ 0  1  2  0  0  0  0  0]\n",
      " [ 0  2  9  0  0  0  0  0]\n",
      " [ 0  1 19  2  0  0  0  0]\n",
      " [ 1  0 15 10  2  0  0  0]\n",
      " [ 0  0  4  3 10  0  0  0]\n",
      " [ 0  0  0  1  2  2  0  0]\n",
      " [ 0  0  0  0  2  0  0  1]\n",
      " [ 0  0  0  0  0  1  0  0]]\n"
     ]
    }
   ],
   "source": [
    "X = train_2022[['SO', 'H']]\n",
    "Y = train_2022['AVG_group']\n",
    "ensemble.fit(X,Y)\n",
    "X = test_2022[['SO', 'H']]\n",
    "Y = test_2022['AVG_group']\n",
    "y_pred = ensemble.predict(X)\n",
    "print(\"Accuracy score for H & SO is \", accuracy_score(Y, y_pred))\n",
    "\n",
    "X = train_2022[['H', 'BB', 'SO']]\n",
    "Y = train_2022['AVG_group']\n",
    "ensemble.fit(X,Y)\n",
    "X = test_2022[['H', 'BB', 'SO']]\n",
    "Y = test_2022['AVG_group']\n",
    "y_pred = ensemble.predict(X)\n",
    "print(\"Accuracy score for BB is \", accuracy_score(Y, y_pred))\n",
    "from sklearn.metrics import confusion_matrix\n",
    "\n",
    "matrix = confusion_matrix(Y, y_pred)\n",
    "print(matrix)"
   ]
  },
  {
   "cell_type": "code",
   "execution_count": null,
   "id": "bce4e139-8a00-45c1-af75-017414011f5a",
   "metadata": {},
   "outputs": [],
   "source": []
  }
 ],
 "metadata": {
  "kernelspec": {
   "display_name": "Python 3 (ipykernel)",
   "language": "python",
   "name": "python3"
  },
  "language_info": {
   "codemirror_mode": {
    "name": "ipython",
    "version": 3
   },
   "file_extension": ".py",
   "mimetype": "text/x-python",
   "name": "python",
   "nbconvert_exporter": "python",
   "pygments_lexer": "ipython3",
   "version": "3.11.5"
  }
 },
 "nbformat": 4,
 "nbformat_minor": 5
}
