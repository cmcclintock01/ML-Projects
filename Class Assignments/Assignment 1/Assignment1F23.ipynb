{
 "cells": [
  {
   "cell_type": "markdown",
   "metadata": {},
   "source": [
    "# Assignment 1 - Introduction to Python - Loops"
   ]
  },
  {
   "cell_type": "markdown",
   "metadata": {},
   "source": [
    "## Part 1\n",
    "* Assign x the value 16\n",
    "* Compute and print x, x squared, and x cubed.\n",
    "* Compute x divided by 3 and then multiply the result by 3.  Does the result have the same as value as x.\n",
    "* Redo the previous parts but assign x the floating point value 5.0\n",
    "\n",
    "_After the code section, create a MarkDown section and explain your results.  Do you expect the same results if you use // instead of /?_"
   ]
  },
  {
   "cell_type": "code",
   "execution_count": 8,
   "metadata": {
    "tags": []
   },
   "outputs": [
    {
     "name": "stdout",
     "output_type": "stream",
     "text": [
      "16\n",
      "256\n",
      "4096\n",
      "16.0\n",
      "5.0\n",
      "25.0\n",
      "125.0\n",
      "5.0\n"
     ]
    }
   ],
   "source": [
    "x = 16\n",
    "print(x)\n",
    "print(x ** 2)\n",
    "print(x ** 3)\n",
    "print((x/3)*3)\n",
    "x = 5.0\n",
    "print(x)\n",
    "print(x ** 2)\n",
    "print(x ** 3)\n",
    "print((x/3)*3)"
   ]
  },
  {
   "cell_type": "markdown",
   "metadata": {},
   "source": [
    "The results here show that if you are divide an integer by an integer using / it will return a floating point number because it is willing to give an exact value. If you were to use // then it would return 15 for the first and 3.0 for the second because it divides the number and then rounds down to the nearest integer."
   ]
  },
  {
   "cell_type": "markdown",
   "metadata": {},
   "source": [
    "## Part 2\n",
    "* Ask the user for a string and assign it to `scores`\n",
    "* Split `scores` into a list\n",
    "* Iterate over the list and count the number of words that start with \"0\", contain \"4\", and meet neither condition. Print the results.\n",
    "* Iterate over the list and compute the sum of the values that are positive.\n"
   ]
  },
  {
   "cell_type": "code",
   "execution_count": 23,
   "metadata": {
    "tags": []
   },
   "outputs": [
    {
     "name": "stdin",
     "output_type": "stream",
     "text": [
      "Enter your scores: 10 20 30 40 50 60 70 84 01 02 03 60 04\n"
     ]
    },
    {
     "name": "stdout",
     "output_type": "stream",
     "text": [
      "['10', '20', '30', '40', '50', '60', '70', '84', '01', '02', '03', '60', '04']\n",
      "Scores that start with 0: 4\n",
      "Scores that contain 4: 1\n",
      "Scores with neither: 9\n",
      "434\n"
     ]
    }
   ],
   "source": [
    "scores = input(\"Enter your scores:\")\n",
    "count0 = 0\n",
    "count4 = 0\n",
    "count = 0\n",
    "scores = scores.split()\n",
    "print(scores)\n",
    "for x in scores :\n",
    "    if x.startswith(\"0\") == True :\n",
    "        count0 += 1\n",
    "        if \"4\" in x :\n",
    "            count4 += 1\n",
    "    else :\n",
    "        count += 1\n",
    "print(\"Scores that start with 0: \" + str(count0))\n",
    "print(\"Scores that contain 4: \" + str(count4))\n",
    "print(\"Scores with neither: \" + str(count))\n",
    "\n",
    "total = 0\n",
    "for x in scores :\n",
    "    if int(x) > 0 :\n",
    "       total += int(x)\n",
    "print(total)\n",
    "\n",
    "        "
   ]
  },
  {
   "cell_type": "markdown",
   "metadata": {},
   "source": [
    "## Part 3\n",
    "* Use a for loop to compute the value of 1000 to the power (n-1)/n where n starts at 2 and ends at 15. "
   ]
  },
  {
   "cell_type": "code",
   "execution_count": 25,
   "metadata": {
    "tags": []
   },
   "outputs": [
    {
     "name": "stdout",
     "output_type": "stream",
     "text": [
      "31.622776601683793\n",
      "99.99999999999997\n",
      "177.82794100389228\n",
      "251.1886431509581\n",
      "316.227766016838\n",
      "372.7593720314939\n",
      "421.6965034285823\n",
      "464.15888336127773\n",
      "501.18723362727235\n",
      "533.6699231206309\n",
      "562.3413251903489\n",
      "587.8016072274914\n",
      "610.540229658533\n"
     ]
    }
   ],
   "source": [
    "for x in range(2,15) :\n",
    "    print(1000 ** ((x-1)/x))\n"
   ]
  },
  {
   "cell_type": "markdown",
   "metadata": {},
   "source": [
    "## Part 4\n",
    "* Ask the user for a numeric value x.\n",
    "* Use a while loop to compute and print a sequence of values where the new value is based on the old value and uses the following formula: $x_{new} = x_{old} - (x_{old}^2-7)/(2x_{old})$\n",
    "* Continue iterating as long as the absolute value of the difference between the old and new values is greater than 0.000001.  _Use the abs() function._\n",
    "* After the code section, create a MarkDown section and give the results of trying different starting values of x, some suggestions are:\n",
    "\n",
    "    * 0, 1, 2, 2.5, 2.6, 3, 5, 10, 20, 100\n",
    "    * Negative values\n",
    "    * Do you always get the same result?\n",
    "\n",
    "Note: This will compute the square root of 7 using the Newton-Raphson method.  It requires Calculus, but if you want to learn about finding zeros of a function it is a good place to start. Also, it is relevant to techniques that we will use later in the course.\n",
    "\n",
    "\n",
    "    "
   ]
  },
  {
   "cell_type": "code",
   "execution_count": 47,
   "metadata": {
    "tags": []
   },
   "outputs": [
    {
     "name": "stdin",
     "output_type": "stream",
     "text": [
      "Give a numeric value: 14.6\n"
     ]
    },
    {
     "name": "stdout",
     "output_type": "stream",
     "text": [
      "Old x: 14.6 New x: 7.5397260273972595\n",
      "Old x: 7.5397260273972595 New x: 4.234070862535839\n",
      "Old x: 4.234070862535839 New x: 2.943663070160058\n",
      "Old x: 2.943663070160058 New x: 2.6608263067573774\n",
      "Old x: 2.6608263067573774 New x: 2.645794014997305\n",
      "Old x: 2.645794014997305 New x: 2.645751311409218\n",
      "Old x: 2.645751311409218 New x: 2.6457513110645907\n"
     ]
    }
   ],
   "source": [
    "x = input(\"Give a numeric value:\")\n",
    "x = float(x)\n",
    "newx = x - (x ** 2 -7)/(2 * x)\n",
    "while abs(x - newx) > .000001 :\n",
    "    temp = newx\n",
    "    print(\"Old x: \" + str(x) + \" New x: \" + str(newx))\n",
    "    x = temp\n",
    "    newx = x - (x ** 2 - 7) / (2 * x)\n",
    "print(\"Old x: \" + str(x) + \" New x: \" + str(newx))"
   ]
  },
  {
   "cell_type": "markdown",
   "metadata": {},
   "source": [
    "The different results:\n",
    "* 0 gave a divide by 0 error\n",
    "* 1 ran through 5 times with the final numbers matching at 2.6457513\n",
    "* 2 ran through 3 times with the final numbers matching at 2.6457513\n",
    "* 50 ran through 8 times with the final numbers matching at 2.6457513\n",
    "* 100 ran through 9 times with the final numbers matching at 2.6457513\n",
    "* 14.6 ran through 6 times with the final numbers matching at 2.6457513"
   ]
  },
  {
   "cell_type": "markdown",
   "metadata": {},
   "source": [
    "## Bonus\n",
    "Suppose we are at a ice cream store that serves 31 flavors.  We are going to choose `r` scoops where the order of selection does not matter and you can select a flavor more than once. The number of ways that we can do this is $C(r+30,r)$ where $C(n,k) = {n!\\over{(n-k)! \\times k!}}$.\n",
    "\n",
    "  For example, If you are going to order 10 flavors the number of ways you can do this is $C(10+30,10) = C(40,10)$ = ${{40!}\\over{30! \\times 10!}} = 847,660,528$\n",
    "\n",
    "* Ask the user for an integer value and assign it to r.\n",
    "* Use loops to compute C(r+30,r) and print the result.\n",
    "* Convert the final vlaue to a string and assign it to `text`\n",
    "* Use a for loop with `text` to compute and then print the number of odd and even digits in the string.  (For example, if `text` is \"12113305\" you would print that there are two even and 6 odd digits.)\n",
    "\n",
    "* Run this code for at least 5 positive integer values up to at least 1000.  Put the results into a markdown cell.\n",
    "\n",
    "In a new Markdown section report on the following:\n",
    "* Run this code for at least 5 positive integer values.  Put the results into a markdown cell.\n",
    "* How large a value of r can you use before you experience computational issues?  What is the problem python reports?\n",
    "* As r increases, how does the final result change?\n",
    "* Looking at your final result values, are the digits more likely to be odd or even?\n"
   ]
  },
  {
   "cell_type": "code",
   "execution_count": 68,
   "metadata": {
    "tags": []
   },
   "outputs": [
    {
     "name": "stdin",
     "output_type": "stream",
     "text": [
      "Give an integer:  10\n"
     ]
    },
    {
     "name": "stdout",
     "output_type": "stream",
     "text": [
      "8476605280\n",
      "There are 8 even numbers and 2 odd numbers.\n"
     ]
    }
   ],
   "source": [
    "r = input(\"Give an integer: \")\n",
    "r = int(r)\n",
    "top = 1\n",
    "bottom = 1\n",
    "if r > 1 :\n",
    "    #top loop\n",
    "    for x in range(1, r + 31) :\n",
    "        top = top * x\n",
    "    #bottom loop part 1\n",
    "    for x in range(1, 31) :\n",
    "        bottom = bottom * x\n",
    "    #bottom loop part 2\n",
    "    for x in range(1, r) :\n",
    "        bottom = bottom * x\n",
    "finalvalue = top // bottom\n",
    "print(finalvalue)\n",
    "\n",
    "text = str(finalvalue)\n",
    "even = 0\n",
    "odd = 0\n",
    "for i in text :\n",
    "    if int(i) % 2 == 0 :\n",
    "        even += 1\n",
    "    else :\n",
    "        odd += 1\n",
    "print(\"There are \" + str(even) + \" even numbers and \" + str(odd) + \" odd numbers.\")\n"
   ]
  },
  {
   "cell_type": "markdown",
   "metadata": {},
   "source": [
    "Final Results\n",
    "* First Test: 1000\n",
    "    * Answer is 5973989742093443720878720594321533293977443790394706271616000\n",
    "    * There are 27 even numbers and 34 odd numbers.\n",
    "* Second Test: 2000\n",
    "    * Anser is 10203140174768624006527361783882302425030314946845747810369459527212000\n",
    "    * There are 42 even numbers and 29 odd numbers.\n",
    "* Third Test: 5000\n",
    "    * Answer is 19262718176173520955387226532627872014400590660754062885193590219025439815465380000\n",
    "    * There are 44 even numbers and 39 odd numbers.\n",
    "* Fourth Test: 10000\n",
    "    * Answer is 39492453772068981571413857068649806113480741474469402804996383775023606703129183270080260000\n",
    "    * There are 53 even numbers and 39 odd numbers.\n",
    "* Fifth Test: 50000\n",
    "    * Answer is 177193659357861500123119566262505967069090592375273746076306303319841024412105612845674409227529586191989506300000\n",
    "    * There are 55 even numbers and 59 odd numbers.\n",
    "* When I try to go up to 1 million the program won't finish on me after waiting for about 10 minutes.\n",
    "* As r is increasing the final value is increasing very fast.\n",
    "* 3 out of the 5 times there were more even numbers than odd numbers so I would say that there is a higher chance for a digit to be even.\n"
   ]
  },
  {
   "cell_type": "code",
   "execution_count": null,
   "metadata": {},
   "outputs": [],
   "source": []
  }
 ],
 "metadata": {
  "kernelspec": {
   "display_name": "Python 3 (ipykernel)",
   "language": "python",
   "name": "python3"
  },
  "language_info": {
   "codemirror_mode": {
    "name": "ipython",
    "version": 3
   },
   "file_extension": ".py",
   "mimetype": "text/x-python",
   "name": "python",
   "nbconvert_exporter": "python",
   "pygments_lexer": "ipython3",
   "version": "3.11.2"
  }
 },
 "nbformat": 4,
 "nbformat_minor": 4
}
