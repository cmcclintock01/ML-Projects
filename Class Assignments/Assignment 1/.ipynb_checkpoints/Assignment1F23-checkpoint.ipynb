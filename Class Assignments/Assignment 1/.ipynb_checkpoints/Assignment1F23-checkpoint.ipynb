{
 "cells": [
  {
   "cell_type": "markdown",
   "metadata": {},
   "source": [
    "# Assignment 1 - Introduction to Python - Loops"
   ]
  },
  {
   "cell_type": "markdown",
   "metadata": {},
   "source": [
    "## Part 1\n",
    "* Assign x the value 16\n",
    "* Compute and print x, x squared, and x cubed.\n",
    "* Compute x divided by 3 and then multiply the result by 3.  Does the result have the same as value as x.\n",
    "* Redo the previous parts but assign x the floating point value 5.0\n",
    "\n",
    "_After the code section, create a MarkDown section and explain your results.  Do you expect the same results if you use // instead of /?_"
   ]
  },
  {
   "cell_type": "markdown",
   "metadata": {},
   "source": [
    "## Part 2\n",
    "* Ask the user for a string and assign it to `scores`\n",
    "* Split `scores` into a list\n",
    "* Iterate over the list and count the number of words that start with \"0\", contain \"4\", and meet neither condition. Print the results.\n",
    "* Iterate over the list and compute the sum of the values that are positive.\n"
   ]
  },
  {
   "cell_type": "markdown",
   "metadata": {},
   "source": [
    "## Part 3\n",
    "* Use a for loop to compute the value of 1000 to the power (n-1)/n where n starts at 2 and ends at 15. "
   ]
  },
  {
   "cell_type": "markdown",
   "metadata": {},
   "source": [
    "## Part 4\n",
    "* Ask the user for a numeric value x.\n",
    "* Use a while loop to compute and print a sequence of values where the new value is based on the old value and uses the following formula: $x_{new} = x_{old} - (x_{old}^2-7)/(2x_{old})$\n",
    "* Continue iterating as long as the absolute value of the difference between the old and new values is greater than 0.000001.  _Use the abs() function._\n",
    "* After the code section, create a MarkDown section and give the results of trying different starting values of x, some suggestions are:\n",
    "\n",
    "    * 0, 1, 2, 2.5, 2.6, 3, 5, 10, 20, 100\n",
    "    * Negative values\n",
    "    * Do you always get the same result?\n",
    "\n",
    "Note: This will compute the square root of 7 using the Newton-Raphson method.  It requires Calculus, but if you want to learn about finding zeros of a function it is a good place to start. Also, it is relevant to techniques that we will use later in the course.\n",
    "\n",
    "\n",
    "    "
   ]
  },
  {
   "cell_type": "markdown",
   "metadata": {},
   "source": [
    "## Bonus\n",
    "Suppose we are at a ice cream store that serves 31 flavors.  We are going to choose `r` scoops where the order of selection does not matter and you can select a flavor more than once. The number of ways that we can do this is $C(r+30,r)$ where $C(n,k) = {n!\\over{(n-k)! \\times k!}}$.\n",
    "\n",
    "  For example, If you are going to order 10 flavors the number of ways you can do this is $C(10+30,10) = C(40,10)$ = ${{40!}\\over{30! \\times 10!}} = 847,660,528$\n",
    "\n",
    "* Ask the user for an integer value and assign it to r.\n",
    "* Use loops to compute C(r+30,r) and print the result.\n",
    "* Convert the final vlaue to a string and assign it to `text`\n",
    "* Use a for loop with `text` to compute and then print the number of odd and even digits in the string.  (For example, if `text` is \"12113305\" you would print that there are two even and 6 odd digits.)\n",
    "\n",
    "* Run this code for at least 5 positive integer values up to at least 1000.  Put the results into a markdown cell.\n",
    "\n",
    "In a new Markdown section report on the following:\n",
    "* Run this code for at least 5 positive integer values.  Put the results into a markdown cell.\n",
    "* How large a value of r can you use before you experience computational issues?  What is the problem python reports?\n",
    "* As r increases, how does the final result change?\n",
    "* Looking at your final result values, are the digits more likely to be odd or even?\n"
   ]
  },
  {
   "cell_type": "code",
   "execution_count": null,
   "metadata": {},
   "outputs": [],
   "source": []
  }
 ],
 "metadata": {
  "kernelspec": {
   "display_name": "Python 3 (Spyder)",
   "language": "python3",
   "name": "python3"
  },
  "language_info": {
   "codemirror_mode": {
    "name": "ipython",
    "version": 3
   },
   "file_extension": ".py",
   "mimetype": "text/x-python",
   "name": "python",
   "nbconvert_exporter": "python",
   "pygments_lexer": "ipython3",
   "version": "3.7.3"
  }
 },
 "nbformat": 4,
 "nbformat_minor": 2
}
